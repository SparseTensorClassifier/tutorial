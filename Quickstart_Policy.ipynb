{
 "cells": [
  {
   "cell_type": "markdown",
   "metadata": {
    "hideCode": false,
    "hidePrompt": false
   },
   "source": [
    "# The Sparse Tensor Classifier Policy\n",
    "\n",
    "By representing the input data as a tensor, `SparseTensorClassifier` is natively suitable for working with multi-valued attributes and multi-labeled data. In such cases, it may be convenient to represent the different attributes as separate dimensions of the tensor, in order to avoid mixing different aspects of the data items into a unique dimension of the feature space. When this is not required, for example when dealing with a single multi-valued attribute, such as text, or when dealing with multiple single-valued attributes, such as tabular data, STC can easily scale down to a matrix based data representation, which uses a single dimension for all the features.\n",
    "In this tutorial you'll learn how to represent the data with multi-dimensional features and how to avoid missing predictions that may arise from this representation.\n",
    "\n",
    "\n",
    "## Colab \n",
    "\n",
    "This tutorial and the rest in [this sequence](https://github.com/SparseTensorClassifier/tutorial) can be done in Google colab. If you'd like to open this notebook in colab, click [here](https://colab.research.google.com/github/SparseTensorClassifier/tutorial/blob/main/Quickstart_Policy.ipynb).\n",
    "\n",
    "![](https://colab.research.google.com/assets/colab-badge.svg)\n",
    "\n",
    "## Setup\n",
    "\n",
    "Uncomment and run the following cell to install the packages. Then, import the modules."
   ]
  },
  {
   "cell_type": "code",
   "execution_count": 1,
   "metadata": {},
   "outputs": [],
   "source": [
    "# !pip install stc numpy pandas scikit-learn"
   ]
  },
  {
   "cell_type": "code",
   "execution_count": 2,
   "metadata": {},
   "outputs": [],
   "source": [
    "import numpy as np\n",
    "import pandas as pd\n",
    "from stc import SparseTensorClassifier\n",
    "from sklearn.metrics import accuracy_score\n",
    "\n",
    "np.random.seed(0)"
   ]
  },
  {
   "cell_type": "markdown",
   "metadata": {},
   "source": [
    "## Read the dataset\n",
    "\n",
    "The dataset consists of 101 animals from a zoo. There are 16 variables with various traits to describe the animals. The 7 Class Types are: Mammal, Bird, Reptile, Fish, Amphibian, Bug and Invertebrate. Let's read and shuffle the data."
   ]
  },
  {
   "cell_type": "code",
   "execution_count": 3,
   "metadata": {},
   "outputs": [
    {
     "data": {
      "text/html": [
       "<div>\n",
       "<style scoped>\n",
       "    .dataframe tbody tr th:only-of-type {\n",
       "        vertical-align: middle;\n",
       "    }\n",
       "\n",
       "    .dataframe tbody tr th {\n",
       "        vertical-align: top;\n",
       "    }\n",
       "\n",
       "    .dataframe thead th {\n",
       "        text-align: right;\n",
       "    }\n",
       "</style>\n",
       "<table border=\"1\" class=\"dataframe\">\n",
       "  <thead>\n",
       "    <tr style=\"text-align: right;\">\n",
       "      <th></th>\n",
       "      <th>animal_name</th>\n",
       "      <th>hair</th>\n",
       "      <th>feathers</th>\n",
       "      <th>eggs</th>\n",
       "      <th>milk</th>\n",
       "      <th>airborne</th>\n",
       "      <th>aquatic</th>\n",
       "      <th>predator</th>\n",
       "      <th>toothed</th>\n",
       "      <th>backbone</th>\n",
       "      <th>breathes</th>\n",
       "      <th>venomous</th>\n",
       "      <th>fins</th>\n",
       "      <th>legs</th>\n",
       "      <th>tail</th>\n",
       "      <th>domestic</th>\n",
       "      <th>catsize</th>\n",
       "      <th>class_type</th>\n",
       "    </tr>\n",
       "  </thead>\n",
       "  <tbody>\n",
       "    <tr>\n",
       "      <th>84</th>\n",
       "      <td>squirrel</td>\n",
       "      <td>1</td>\n",
       "      <td>0</td>\n",
       "      <td>0</td>\n",
       "      <td>1</td>\n",
       "      <td>0</td>\n",
       "      <td>0</td>\n",
       "      <td>0</td>\n",
       "      <td>1</td>\n",
       "      <td>1</td>\n",
       "      <td>1</td>\n",
       "      <td>0</td>\n",
       "      <td>0</td>\n",
       "      <td>2</td>\n",
       "      <td>1</td>\n",
       "      <td>0</td>\n",
       "      <td>0</td>\n",
       "      <td>Mammal</td>\n",
       "    </tr>\n",
       "    <tr>\n",
       "      <th>55</th>\n",
       "      <td>oryx</td>\n",
       "      <td>1</td>\n",
       "      <td>0</td>\n",
       "      <td>0</td>\n",
       "      <td>1</td>\n",
       "      <td>0</td>\n",
       "      <td>0</td>\n",
       "      <td>0</td>\n",
       "      <td>1</td>\n",
       "      <td>1</td>\n",
       "      <td>1</td>\n",
       "      <td>0</td>\n",
       "      <td>0</td>\n",
       "      <td>4</td>\n",
       "      <td>1</td>\n",
       "      <td>0</td>\n",
       "      <td>1</td>\n",
       "      <td>Mammal</td>\n",
       "    </tr>\n",
       "    <tr>\n",
       "      <th>66</th>\n",
       "      <td>porpoise</td>\n",
       "      <td>0</td>\n",
       "      <td>0</td>\n",
       "      <td>0</td>\n",
       "      <td>1</td>\n",
       "      <td>0</td>\n",
       "      <td>1</td>\n",
       "      <td>1</td>\n",
       "      <td>1</td>\n",
       "      <td>1</td>\n",
       "      <td>1</td>\n",
       "      <td>0</td>\n",
       "      <td>1</td>\n",
       "      <td>0</td>\n",
       "      <td>1</td>\n",
       "      <td>0</td>\n",
       "      <td>1</td>\n",
       "      <td>Mammal</td>\n",
       "    </tr>\n",
       "    <tr>\n",
       "      <th>67</th>\n",
       "      <td>puma</td>\n",
       "      <td>1</td>\n",
       "      <td>0</td>\n",
       "      <td>0</td>\n",
       "      <td>1</td>\n",
       "      <td>0</td>\n",
       "      <td>0</td>\n",
       "      <td>1</td>\n",
       "      <td>1</td>\n",
       "      <td>1</td>\n",
       "      <td>1</td>\n",
       "      <td>0</td>\n",
       "      <td>0</td>\n",
       "      <td>4</td>\n",
       "      <td>1</td>\n",
       "      <td>0</td>\n",
       "      <td>1</td>\n",
       "      <td>Mammal</td>\n",
       "    </tr>\n",
       "    <tr>\n",
       "      <th>45</th>\n",
       "      <td>lion</td>\n",
       "      <td>1</td>\n",
       "      <td>0</td>\n",
       "      <td>0</td>\n",
       "      <td>1</td>\n",
       "      <td>0</td>\n",
       "      <td>0</td>\n",
       "      <td>1</td>\n",
       "      <td>1</td>\n",
       "      <td>1</td>\n",
       "      <td>1</td>\n",
       "      <td>0</td>\n",
       "      <td>0</td>\n",
       "      <td>4</td>\n",
       "      <td>1</td>\n",
       "      <td>0</td>\n",
       "      <td>1</td>\n",
       "      <td>Mammal</td>\n",
       "    </tr>\n",
       "    <tr>\n",
       "      <th>...</th>\n",
       "      <td>...</td>\n",
       "      <td>...</td>\n",
       "      <td>...</td>\n",
       "      <td>...</td>\n",
       "      <td>...</td>\n",
       "      <td>...</td>\n",
       "      <td>...</td>\n",
       "      <td>...</td>\n",
       "      <td>...</td>\n",
       "      <td>...</td>\n",
       "      <td>...</td>\n",
       "      <td>...</td>\n",
       "      <td>...</td>\n",
       "      <td>...</td>\n",
       "      <td>...</td>\n",
       "      <td>...</td>\n",
       "      <td>...</td>\n",
       "      <td>...</td>\n",
       "    </tr>\n",
       "    <tr>\n",
       "      <th>60</th>\n",
       "      <td>pike</td>\n",
       "      <td>0</td>\n",
       "      <td>0</td>\n",
       "      <td>1</td>\n",
       "      <td>0</td>\n",
       "      <td>0</td>\n",
       "      <td>1</td>\n",
       "      <td>1</td>\n",
       "      <td>1</td>\n",
       "      <td>1</td>\n",
       "      <td>0</td>\n",
       "      <td>0</td>\n",
       "      <td>1</td>\n",
       "      <td>0</td>\n",
       "      <td>1</td>\n",
       "      <td>0</td>\n",
       "      <td>1</td>\n",
       "      <td>Fish</td>\n",
       "    </tr>\n",
       "    <tr>\n",
       "      <th>71</th>\n",
       "      <td>rhea</td>\n",
       "      <td>0</td>\n",
       "      <td>1</td>\n",
       "      <td>1</td>\n",
       "      <td>0</td>\n",
       "      <td>0</td>\n",
       "      <td>0</td>\n",
       "      <td>1</td>\n",
       "      <td>0</td>\n",
       "      <td>1</td>\n",
       "      <td>1</td>\n",
       "      <td>0</td>\n",
       "      <td>0</td>\n",
       "      <td>2</td>\n",
       "      <td>1</td>\n",
       "      <td>0</td>\n",
       "      <td>1</td>\n",
       "      <td>Bird</td>\n",
       "    </tr>\n",
       "    <tr>\n",
       "      <th>14</th>\n",
       "      <td>crab</td>\n",
       "      <td>0</td>\n",
       "      <td>0</td>\n",
       "      <td>1</td>\n",
       "      <td>0</td>\n",
       "      <td>0</td>\n",
       "      <td>1</td>\n",
       "      <td>1</td>\n",
       "      <td>0</td>\n",
       "      <td>0</td>\n",
       "      <td>0</td>\n",
       "      <td>0</td>\n",
       "      <td>0</td>\n",
       "      <td>4</td>\n",
       "      <td>0</td>\n",
       "      <td>0</td>\n",
       "      <td>0</td>\n",
       "      <td>Invertebrate</td>\n",
       "    </tr>\n",
       "    <tr>\n",
       "      <th>92</th>\n",
       "      <td>tuna</td>\n",
       "      <td>0</td>\n",
       "      <td>0</td>\n",
       "      <td>1</td>\n",
       "      <td>0</td>\n",
       "      <td>0</td>\n",
       "      <td>1</td>\n",
       "      <td>1</td>\n",
       "      <td>1</td>\n",
       "      <td>1</td>\n",
       "      <td>0</td>\n",
       "      <td>0</td>\n",
       "      <td>1</td>\n",
       "      <td>0</td>\n",
       "      <td>1</td>\n",
       "      <td>0</td>\n",
       "      <td>1</td>\n",
       "      <td>Fish</td>\n",
       "    </tr>\n",
       "    <tr>\n",
       "      <th>51</th>\n",
       "      <td>moth</td>\n",
       "      <td>1</td>\n",
       "      <td>0</td>\n",
       "      <td>1</td>\n",
       "      <td>0</td>\n",
       "      <td>1</td>\n",
       "      <td>0</td>\n",
       "      <td>0</td>\n",
       "      <td>0</td>\n",
       "      <td>0</td>\n",
       "      <td>1</td>\n",
       "      <td>0</td>\n",
       "      <td>0</td>\n",
       "      <td>6</td>\n",
       "      <td>0</td>\n",
       "      <td>0</td>\n",
       "      <td>0</td>\n",
       "      <td>Bug</td>\n",
       "    </tr>\n",
       "  </tbody>\n",
       "</table>\n",
       "<p>101 rows × 18 columns</p>\n",
       "</div>"
      ],
      "text/plain": [
       "   animal_name  hair  feathers  eggs  milk  airborne  aquatic  predator  \\\n",
       "84    squirrel     1         0     0     1         0        0         0   \n",
       "55        oryx     1         0     0     1         0        0         0   \n",
       "66    porpoise     0         0     0     1         0        1         1   \n",
       "67        puma     1         0     0     1         0        0         1   \n",
       "45        lion     1         0     0     1         0        0         1   \n",
       "..         ...   ...       ...   ...   ...       ...      ...       ...   \n",
       "60        pike     0         0     1     0         0        1         1   \n",
       "71        rhea     0         1     1     0         0        0         1   \n",
       "14        crab     0         0     1     0         0        1         1   \n",
       "92        tuna     0         0     1     0         0        1         1   \n",
       "51        moth     1         0     1     0         1        0         0   \n",
       "\n",
       "    toothed  backbone  breathes  venomous  fins  legs  tail  domestic  \\\n",
       "84        1         1         1         0     0     2     1         0   \n",
       "55        1         1         1         0     0     4     1         0   \n",
       "66        1         1         1         0     1     0     1         0   \n",
       "67        1         1         1         0     0     4     1         0   \n",
       "45        1         1         1         0     0     4     1         0   \n",
       "..      ...       ...       ...       ...   ...   ...   ...       ...   \n",
       "60        1         1         0         0     1     0     1         0   \n",
       "71        0         1         1         0     0     2     1         0   \n",
       "14        0         0         0         0     0     4     0         0   \n",
       "92        1         1         0         0     1     0     1         0   \n",
       "51        0         0         1         0     0     6     0         0   \n",
       "\n",
       "    catsize    class_type  \n",
       "84        0        Mammal  \n",
       "55        1        Mammal  \n",
       "66        1        Mammal  \n",
       "67        1        Mammal  \n",
       "45        1        Mammal  \n",
       "..      ...           ...  \n",
       "60        1          Fish  \n",
       "71        1          Bird  \n",
       "14        0  Invertebrate  \n",
       "92        1          Fish  \n",
       "51        0           Bug  \n",
       "\n",
       "[101 rows x 18 columns]"
      ]
     },
     "execution_count": 3,
     "metadata": {},
     "output_type": "execute_result"
    }
   ],
   "source": [
    "zoo = pd.read_csv('https://raw.githubusercontent.com/SparseTensorClassifier/tutorial/main/data/zoo/zoo.csv')\n",
    "zoo = zoo.sample(frac=1, random_state=42)\n",
    "zoo"
   ]
  },
  {
   "cell_type": "markdown",
   "metadata": {},
   "source": [
    "## Transform the data and add noise\n",
    "\n",
    "To better illustrate how STC deals with (potentially noisy) multi-valued attributes, let's transform the zoo dataset. Convert to JSON and define the following dimensions: \n",
    "- `f1` containing a clean set of attributes, such as `hair=1` (has hair), `eggs=0` (does not lay eggs), etc.  \n",
    "- `f2` containing the information on the number of legs plus random noise \n",
    "- `n1` and `n2` containing pure noise"
   ]
  },
  {
   "cell_type": "code",
   "execution_count": 4,
   "metadata": {},
   "outputs": [
    {
     "data": {
      "text/plain": [
       "{'f1': ['hair=1',\n",
       "  'feathers=0',\n",
       "  'eggs=0',\n",
       "  'milk=1',\n",
       "  'airborne=0',\n",
       "  'aquatic=0',\n",
       "  'predator=0',\n",
       "  'toothed=1',\n",
       "  'backbone=1',\n",
       "  'breathes=1',\n",
       "  'venomous=0',\n",
       "  'fins=0',\n",
       "  'tail=1',\n",
       "  'domestic=0',\n",
       "  'catsize=0'],\n",
       " 'f2': ['legs=2', 6, 5, 5, 5, 6, 5, 7],\n",
       " 'n1': [5, 6, 5, 5],\n",
       " 'n2': [3, 3, 2, 7, 6],\n",
       " 'class_type': ['Mammal']}"
      ]
     },
     "execution_count": 4,
     "metadata": {},
     "output_type": "execute_result"
    }
   ],
   "source": [
    "items = []\n",
    "for i, (_, row) in enumerate(zoo.iterrows()):\n",
    "    item = {}\n",
    "    item['f1'] = [f+\"=\"+str(row[f]) for f in zoo.columns[1:] if f not in ['class_type','legs']] \n",
    "    item['f2'] = [f+\"=\"+str(row[f]) for f in zoo.columns[1:] if f in ['legs']] \n",
    "    item['f2'] += list(np.random.binomial(10, 0.5, np.random.binomial(10, 0.7)))\n",
    "    item['n1'] = list(np.random.binomial(10, 0.5, np.random.binomial(10, 0.7)))\n",
    "    item['n2'] = list(np.random.binomial(10, 0.5, np.random.binomial(10, 0.7)))\n",
    "    item['class_type'] = [row['class_type']]\n",
    "    items.append(item)\n",
    "\n",
    "items[0]"
   ]
  },
  {
   "cell_type": "markdown",
   "metadata": {},
   "source": [
    "## Initialize Sparse Tensor Classifier\n",
    "\n",
    "Let's instruct STC to predict `class_type` based on `f1`, `f2`, `n1`, `n2`. In this example, we are going to keep the 4 multi-valued attributes in separate dimensions of the Sparse Tensor. This is obtained by setting `collapse=False` upon initialization. Each feature is now represented in a 4 dimensional space, i.e., (`f1`, `f2`, `n1`, `n2`), and each item is represented with the cartesian product of its attributes."
   ]
  },
  {
   "cell_type": "code",
   "execution_count": 5,
   "metadata": {},
   "outputs": [],
   "source": [
    "STC = SparseTensorClassifier(targets=['class_type'], features=['f1','f2','n1','n2'], collapse=False)"
   ]
  },
  {
   "cell_type": "markdown",
   "metadata": {},
   "source": [
    "## Fit the training data"
   ]
  },
  {
   "cell_type": "code",
   "execution_count": 6,
   "metadata": {},
   "outputs": [
    {
     "name": "stdout",
     "output_type": "stream",
     "text": [
      "[============================================================] 100.0% Fitting (00:00:00.41/00:00:00.41)\r"
     ]
    }
   ],
   "source": [
    "STC.fit(items[0:70])"
   ]
  },
  {
   "cell_type": "markdown",
   "metadata": {},
   "source": [
    "## Learn the policy and predict\n",
    "\n",
    "STC may be unable to provide a prediction in the case where all the (4 dimensional) features of the instance to predict are never seen in the training set. In this case we need to define a fallback mechanism: the *policy*. The policy is represented by a list of lists, e.g.:\n",
    "\n",
    "```py\n",
    "[['f1','f2','n1','n2'], ..., ['f1','f2'], ['f1'], []]\n",
    "```\n",
    "where each list contains the features to use for prediction. We predict with the first list of features. Then, for the items that could not be predicted, we use the second list of features. Then the third list and so on, until the last list. In other words, first lists are applied first. The empy list `[]` corresponds to ignoring all the features, i.e. predicting with the unconditional distribution of the target(s) in the training set. If the last list is the empty list, then all items are guaranteed to be predicted. In STC, the policy can be arbitrarily specified if prior knowledge is available, or learnt via the function `learn()`."
   ]
  },
  {
   "cell_type": "code",
   "execution_count": 7,
   "metadata": {},
   "outputs": [
    {
     "name": "stdout",
     "output_type": "stream",
     "text": [
      "[============================================================] 100.0% Learning iteration 1 state 3 (00:00:04.07/00:00:04.07)\r"
     ]
    },
    {
     "data": {
      "text/plain": [
       "[['f2', 'f1'], ['f1'], []]"
      ]
     },
     "execution_count": 7,
     "metadata": {},
     "output_type": "execute_result"
    }
   ],
   "source": [
    "policy, score = STC.learn(max_iter=1, random_state=42)\n",
    "policy"
   ]
  },
  {
   "cell_type": "markdown",
   "metadata": {},
   "source": [
    "The policy learnt is `[['f2', 'f1'], ['f1'], []]`. This corresponds to using only `f2` and `f1` for prediction (STC was able to filter out the noisy dimensions `n1` and `n2`). Then, for those items that couldn't be predicted use `f1` only (the cleanest and most informative dimension). If still some items could not be predicted, ignore all the features and predict with the unconditional distribution of the target(s) in the training set. The policy is saved internally and automatically used for prediction."
   ]
  },
  {
   "cell_type": "code",
   "execution_count": 8,
   "metadata": {},
   "outputs": [
    {
     "name": "stdout",
     "output_type": "stream",
     "text": [
      "[============================================================] 100.0% Predicting (00:00:00.41/00:00:00.41)\r"
     ]
    },
    {
     "data": {
      "text/plain": [
       "0.9032258064516129"
      ]
     },
     "execution_count": 8,
     "metadata": {},
     "output_type": "execute_result"
    }
   ],
   "source": [
    "labels, probability, explainability = STC.predict(items[70:])\n",
    "accuracy_score(zoo['class_type'][70:], labels)"
   ]
  },
  {
   "cell_type": "markdown",
   "metadata": {},
   "source": [
    "The policy can also be arbitrary specified. Below an equivalent call where the policy is explicitly specified. This is particularly useful when prior knowledge is available and the learning of the policy is too compute intensive."
   ]
  },
  {
   "cell_type": "code",
   "execution_count": 9,
   "metadata": {},
   "outputs": [
    {
     "name": "stdout",
     "output_type": "stream",
     "text": [
      "[============================================================] 100.0% Predicting (00:00:00.06/00:00:00.06)\r"
     ]
    },
    {
     "data": {
      "text/plain": [
       "0.9032258064516129"
      ]
     },
     "execution_count": 9,
     "metadata": {},
     "output_type": "execute_result"
    }
   ],
   "source": [
    "labels, probability, explainability = STC.predict(items[70:], policy=[['f1','f2'], ['f2'], []])\n",
    "accuracy_score(zoo['class_type'][70:], labels)"
   ]
  },
  {
   "cell_type": "markdown",
   "metadata": {},
   "source": [
    "But watch out! This is an example where we arbitrarily predict with the noisy dimensions first."
   ]
  },
  {
   "cell_type": "code",
   "execution_count": 10,
   "metadata": {},
   "outputs": [
    {
     "name": "stdout",
     "output_type": "stream",
     "text": [
      "[============================================================] 100.0% Predicting (00:00:00.43/00:00:00.43)\r"
     ]
    },
    {
     "data": {
      "text/plain": [
       "0.0967741935483871"
      ]
     },
     "execution_count": 10,
     "metadata": {},
     "output_type": "execute_result"
    }
   ],
   "source": [
    "labels, probability, explainability = STC.predict(items[70:], policy=[['n1','n2'], ['f1','f2'], ['f2'], []])\n",
    "accuracy_score(zoo['class_type'][70:], labels)"
   ]
  },
  {
   "cell_type": "markdown",
   "metadata": {},
   "source": [
    "# Congratulations! \n",
    "\n",
    "Congratulations on completing this tutorial notebook! If you enjoyed working through the tutorial, and want to continue working with Sparse Tensor Classifier, we encourage you to finish the rest of the tutorials in [this series](https://github.com/SparseTensorClassifier/tutorial). Don't forget to [star the repository](https://github.com/SparseTensorClassifier/stc)! \n",
    "\n",
    "![GitHub Repo stars](https://img.shields.io/github/stars/SparseTensorClassifier/stc?style=social)\n",
    "\n",
    "<div>\n",
    "    Thanks by <a href=\"https://sparsetensorclassifier.org\">https://sparsetensorclassifier.org</a>  \n",
    "    <span style=\"float:right\">\n",
    "        Questions? Open an <a href=\"https://github.com/SparseTensorClassifier/tutorial/issues\">issue</a>\n",
    "    </span> \n",
    "</div>"
   ]
  }
 ],
 "metadata": {
  "hide_code_all_hidden": false,
  "kernelspec": {
   "display_name": "Python 3",
   "language": "python",
   "name": "python3"
  },
  "language_info": {
   "codemirror_mode": {
    "name": "ipython",
    "version": 3
   },
   "file_extension": ".py",
   "mimetype": "text/x-python",
   "name": "python",
   "nbconvert_exporter": "python",
   "pygments_lexer": "ipython3",
   "version": "3.7.9"
  },
  "toc": {
   "base_numbering": 1,
   "nav_menu": {},
   "number_sections": true,
   "sideBar": true,
   "skip_h1_title": true,
   "title_cell": "Table of Contents",
   "title_sidebar": "Contents",
   "toc_cell": false,
   "toc_position": {},
   "toc_section_display": true,
   "toc_window_display": false
  }
 },
 "nbformat": 4,
 "nbformat_minor": 2
}
