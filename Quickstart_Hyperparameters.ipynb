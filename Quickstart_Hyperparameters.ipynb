{
 "cells": [
  {
   "cell_type": "markdown",
   "metadata": {
    "hideCode": false,
    "hidePrompt": false
   },
   "source": [
    "# The Sparse Tensor Classifier Hyperparameters\n",
    "\n",
    "In this tutorial you'll learn how to configure the `SparseTensorClassifier` hyperparameters.\n",
    "\n",
    "\n",
    "## Colab \n",
    "\n",
    "This tutorial and the rest in [this sequence](https://github.com/SparseTensorClassifier/tutorial) can be done in Google colab. If you'd like to open this notebook in colab, click [here](https://colab.research.google.com/github/SparseTensorClassifier/tutorial/blob/main/Quickstart_Hyperparameters.ipynb).\n",
    "\n",
    "![](https://colab.research.google.com/assets/colab-badge.svg)\n",
    "\n",
    "## Setup\n",
    "\n",
    "Uncomment and run the following cell to install the packages. Then, import the modules."
   ]
  },
  {
   "cell_type": "code",
   "execution_count": 1,
   "metadata": {},
   "outputs": [],
   "source": [
    "# !pip install stc pandas scikit-learn"
   ]
  },
  {
   "cell_type": "code",
   "execution_count": 2,
   "metadata": {},
   "outputs": [],
   "source": [
    "import numpy as np\n",
    "import pandas as pd\n",
    "from stc import SparseTensorClassifier\n",
    "from sklearn.metrics import accuracy_score\n",
    "\n",
    "np.random.seed(0)"
   ]
  },
  {
   "cell_type": "markdown",
   "metadata": {},
   "source": [
    "## Read the dataset\n",
    "\n",
    "The dataset consists of 101 animals from a zoo. There are 16 variables with various traits to describe the animals. The 7 Class Types are: Mammal, Bird, Reptile, Fish, Amphibian, Bug and Invertebrate. Let's read and shuffle the data."
   ]
  },
  {
   "cell_type": "code",
   "execution_count": 3,
   "metadata": {},
   "outputs": [
    {
     "data": {
      "text/html": [
       "<div>\n",
       "<style scoped>\n",
       "    .dataframe tbody tr th:only-of-type {\n",
       "        vertical-align: middle;\n",
       "    }\n",
       "\n",
       "    .dataframe tbody tr th {\n",
       "        vertical-align: top;\n",
       "    }\n",
       "\n",
       "    .dataframe thead th {\n",
       "        text-align: right;\n",
       "    }\n",
       "</style>\n",
       "<table border=\"1\" class=\"dataframe\">\n",
       "  <thead>\n",
       "    <tr style=\"text-align: right;\">\n",
       "      <th></th>\n",
       "      <th>animal_name</th>\n",
       "      <th>hair</th>\n",
       "      <th>feathers</th>\n",
       "      <th>eggs</th>\n",
       "      <th>milk</th>\n",
       "      <th>airborne</th>\n",
       "      <th>aquatic</th>\n",
       "      <th>predator</th>\n",
       "      <th>toothed</th>\n",
       "      <th>backbone</th>\n",
       "      <th>breathes</th>\n",
       "      <th>venomous</th>\n",
       "      <th>fins</th>\n",
       "      <th>legs</th>\n",
       "      <th>tail</th>\n",
       "      <th>domestic</th>\n",
       "      <th>catsize</th>\n",
       "      <th>class_type</th>\n",
       "    </tr>\n",
       "  </thead>\n",
       "  <tbody>\n",
       "    <tr>\n",
       "      <th>84</th>\n",
       "      <td>squirrel</td>\n",
       "      <td>1</td>\n",
       "      <td>0</td>\n",
       "      <td>0</td>\n",
       "      <td>1</td>\n",
       "      <td>0</td>\n",
       "      <td>0</td>\n",
       "      <td>0</td>\n",
       "      <td>1</td>\n",
       "      <td>1</td>\n",
       "      <td>1</td>\n",
       "      <td>0</td>\n",
       "      <td>0</td>\n",
       "      <td>2</td>\n",
       "      <td>1</td>\n",
       "      <td>0</td>\n",
       "      <td>0</td>\n",
       "      <td>Mammal</td>\n",
       "    </tr>\n",
       "    <tr>\n",
       "      <th>55</th>\n",
       "      <td>oryx</td>\n",
       "      <td>1</td>\n",
       "      <td>0</td>\n",
       "      <td>0</td>\n",
       "      <td>1</td>\n",
       "      <td>0</td>\n",
       "      <td>0</td>\n",
       "      <td>0</td>\n",
       "      <td>1</td>\n",
       "      <td>1</td>\n",
       "      <td>1</td>\n",
       "      <td>0</td>\n",
       "      <td>0</td>\n",
       "      <td>4</td>\n",
       "      <td>1</td>\n",
       "      <td>0</td>\n",
       "      <td>1</td>\n",
       "      <td>Mammal</td>\n",
       "    </tr>\n",
       "    <tr>\n",
       "      <th>66</th>\n",
       "      <td>porpoise</td>\n",
       "      <td>0</td>\n",
       "      <td>0</td>\n",
       "      <td>0</td>\n",
       "      <td>1</td>\n",
       "      <td>0</td>\n",
       "      <td>1</td>\n",
       "      <td>1</td>\n",
       "      <td>1</td>\n",
       "      <td>1</td>\n",
       "      <td>1</td>\n",
       "      <td>0</td>\n",
       "      <td>1</td>\n",
       "      <td>0</td>\n",
       "      <td>1</td>\n",
       "      <td>0</td>\n",
       "      <td>1</td>\n",
       "      <td>Mammal</td>\n",
       "    </tr>\n",
       "    <tr>\n",
       "      <th>67</th>\n",
       "      <td>puma</td>\n",
       "      <td>1</td>\n",
       "      <td>0</td>\n",
       "      <td>0</td>\n",
       "      <td>1</td>\n",
       "      <td>0</td>\n",
       "      <td>0</td>\n",
       "      <td>1</td>\n",
       "      <td>1</td>\n",
       "      <td>1</td>\n",
       "      <td>1</td>\n",
       "      <td>0</td>\n",
       "      <td>0</td>\n",
       "      <td>4</td>\n",
       "      <td>1</td>\n",
       "      <td>0</td>\n",
       "      <td>1</td>\n",
       "      <td>Mammal</td>\n",
       "    </tr>\n",
       "    <tr>\n",
       "      <th>45</th>\n",
       "      <td>lion</td>\n",
       "      <td>1</td>\n",
       "      <td>0</td>\n",
       "      <td>0</td>\n",
       "      <td>1</td>\n",
       "      <td>0</td>\n",
       "      <td>0</td>\n",
       "      <td>1</td>\n",
       "      <td>1</td>\n",
       "      <td>1</td>\n",
       "      <td>1</td>\n",
       "      <td>0</td>\n",
       "      <td>0</td>\n",
       "      <td>4</td>\n",
       "      <td>1</td>\n",
       "      <td>0</td>\n",
       "      <td>1</td>\n",
       "      <td>Mammal</td>\n",
       "    </tr>\n",
       "    <tr>\n",
       "      <th>...</th>\n",
       "      <td>...</td>\n",
       "      <td>...</td>\n",
       "      <td>...</td>\n",
       "      <td>...</td>\n",
       "      <td>...</td>\n",
       "      <td>...</td>\n",
       "      <td>...</td>\n",
       "      <td>...</td>\n",
       "      <td>...</td>\n",
       "      <td>...</td>\n",
       "      <td>...</td>\n",
       "      <td>...</td>\n",
       "      <td>...</td>\n",
       "      <td>...</td>\n",
       "      <td>...</td>\n",
       "      <td>...</td>\n",
       "      <td>...</td>\n",
       "      <td>...</td>\n",
       "    </tr>\n",
       "    <tr>\n",
       "      <th>60</th>\n",
       "      <td>pike</td>\n",
       "      <td>0</td>\n",
       "      <td>0</td>\n",
       "      <td>1</td>\n",
       "      <td>0</td>\n",
       "      <td>0</td>\n",
       "      <td>1</td>\n",
       "      <td>1</td>\n",
       "      <td>1</td>\n",
       "      <td>1</td>\n",
       "      <td>0</td>\n",
       "      <td>0</td>\n",
       "      <td>1</td>\n",
       "      <td>0</td>\n",
       "      <td>1</td>\n",
       "      <td>0</td>\n",
       "      <td>1</td>\n",
       "      <td>Fish</td>\n",
       "    </tr>\n",
       "    <tr>\n",
       "      <th>71</th>\n",
       "      <td>rhea</td>\n",
       "      <td>0</td>\n",
       "      <td>1</td>\n",
       "      <td>1</td>\n",
       "      <td>0</td>\n",
       "      <td>0</td>\n",
       "      <td>0</td>\n",
       "      <td>1</td>\n",
       "      <td>0</td>\n",
       "      <td>1</td>\n",
       "      <td>1</td>\n",
       "      <td>0</td>\n",
       "      <td>0</td>\n",
       "      <td>2</td>\n",
       "      <td>1</td>\n",
       "      <td>0</td>\n",
       "      <td>1</td>\n",
       "      <td>Bird</td>\n",
       "    </tr>\n",
       "    <tr>\n",
       "      <th>14</th>\n",
       "      <td>crab</td>\n",
       "      <td>0</td>\n",
       "      <td>0</td>\n",
       "      <td>1</td>\n",
       "      <td>0</td>\n",
       "      <td>0</td>\n",
       "      <td>1</td>\n",
       "      <td>1</td>\n",
       "      <td>0</td>\n",
       "      <td>0</td>\n",
       "      <td>0</td>\n",
       "      <td>0</td>\n",
       "      <td>0</td>\n",
       "      <td>4</td>\n",
       "      <td>0</td>\n",
       "      <td>0</td>\n",
       "      <td>0</td>\n",
       "      <td>Invertebrate</td>\n",
       "    </tr>\n",
       "    <tr>\n",
       "      <th>92</th>\n",
       "      <td>tuna</td>\n",
       "      <td>0</td>\n",
       "      <td>0</td>\n",
       "      <td>1</td>\n",
       "      <td>0</td>\n",
       "      <td>0</td>\n",
       "      <td>1</td>\n",
       "      <td>1</td>\n",
       "      <td>1</td>\n",
       "      <td>1</td>\n",
       "      <td>0</td>\n",
       "      <td>0</td>\n",
       "      <td>1</td>\n",
       "      <td>0</td>\n",
       "      <td>1</td>\n",
       "      <td>0</td>\n",
       "      <td>1</td>\n",
       "      <td>Fish</td>\n",
       "    </tr>\n",
       "    <tr>\n",
       "      <th>51</th>\n",
       "      <td>moth</td>\n",
       "      <td>1</td>\n",
       "      <td>0</td>\n",
       "      <td>1</td>\n",
       "      <td>0</td>\n",
       "      <td>1</td>\n",
       "      <td>0</td>\n",
       "      <td>0</td>\n",
       "      <td>0</td>\n",
       "      <td>0</td>\n",
       "      <td>1</td>\n",
       "      <td>0</td>\n",
       "      <td>0</td>\n",
       "      <td>6</td>\n",
       "      <td>0</td>\n",
       "      <td>0</td>\n",
       "      <td>0</td>\n",
       "      <td>Bug</td>\n",
       "    </tr>\n",
       "  </tbody>\n",
       "</table>\n",
       "<p>101 rows × 18 columns</p>\n",
       "</div>"
      ],
      "text/plain": [
       "   animal_name  hair  feathers  eggs  milk  airborne  aquatic  predator  \\\n",
       "84    squirrel     1         0     0     1         0        0         0   \n",
       "55        oryx     1         0     0     1         0        0         0   \n",
       "66    porpoise     0         0     0     1         0        1         1   \n",
       "67        puma     1         0     0     1         0        0         1   \n",
       "45        lion     1         0     0     1         0        0         1   \n",
       "..         ...   ...       ...   ...   ...       ...      ...       ...   \n",
       "60        pike     0         0     1     0         0        1         1   \n",
       "71        rhea     0         1     1     0         0        0         1   \n",
       "14        crab     0         0     1     0         0        1         1   \n",
       "92        tuna     0         0     1     0         0        1         1   \n",
       "51        moth     1         0     1     0         1        0         0   \n",
       "\n",
       "    toothed  backbone  breathes  venomous  fins  legs  tail  domestic  \\\n",
       "84        1         1         1         0     0     2     1         0   \n",
       "55        1         1         1         0     0     4     1         0   \n",
       "66        1         1         1         0     1     0     1         0   \n",
       "67        1         1         1         0     0     4     1         0   \n",
       "45        1         1         1         0     0     4     1         0   \n",
       "..      ...       ...       ...       ...   ...   ...   ...       ...   \n",
       "60        1         1         0         0     1     0     1         0   \n",
       "71        0         1         1         0     0     2     1         0   \n",
       "14        0         0         0         0     0     4     0         0   \n",
       "92        1         1         0         0     1     0     1         0   \n",
       "51        0         0         1         0     0     6     0         0   \n",
       "\n",
       "    catsize    class_type  \n",
       "84        0        Mammal  \n",
       "55        1        Mammal  \n",
       "66        1        Mammal  \n",
       "67        1        Mammal  \n",
       "45        1        Mammal  \n",
       "..      ...           ...  \n",
       "60        1          Fish  \n",
       "71        1          Bird  \n",
       "14        0  Invertebrate  \n",
       "92        1          Fish  \n",
       "51        0           Bug  \n",
       "\n",
       "[101 rows x 18 columns]"
      ]
     },
     "execution_count": 3,
     "metadata": {},
     "output_type": "execute_result"
    }
   ],
   "source": [
    "zoo = pd.read_csv('./data/zoo/zoo.csv')\n",
    "zoo = zoo.sample(frac=1, random_state=42)\n",
    "zoo"
   ]
  },
  {
   "cell_type": "markdown",
   "metadata": {},
   "source": [
    "## Add Noise\n",
    "\n",
    "Let's convert the data to JSON and add noise to better understand the impact of the STC hyperparameters. Each animal is now represented with a set of categorical features such as `hair=1` (has hair), `eggs=0` (does not lay eggs), ..., as well 1000 random values to confound the classifier. "
   ]
  },
  {
   "cell_type": "code",
   "execution_count": 4,
   "metadata": {},
   "outputs": [
    {
     "name": "stdout",
     "output_type": "stream",
     "text": [
      "{'features': ['hair=1', 'feathers=0', 'eggs=0', 'milk=1', 'airborne=0', 'aquatic=0', 'predator=0', 'toothed=1', 'backbone=1', 'breathes=1', 'venomous=0', 'fins=0', 'legs=2', 'tail=1', 'domestic=0', 'catsize=0', 5, 6, 5, 5, 5, 6, 5, 7, 8, 5, 6, 5, 5, 7, 3, 3, 2, 7, 6, 7, 8, 6, 5, 6, 3, 6, 3, 7, 5, 5, 4, 6, 5, 5, 2, 5, 5, 5, 7, 6, 4, 5, 6, 3, 6, 6, 4, 3, 4, 4, 5, 5, 8, 3, 4, 3, 6, 4, 5, 4, 3, 3, 6, 3, 4, 4, 6, 3, 7, 3, 8, 5, 8, 5, 6, 2, 4, 3, 4, 3, 4, 5, 3, 6, 5, 4, 5, 3, 5, 7, 4, 6, 3, 6, 4, 4, 5, 2, 7, 1, 6, 4, 6, 8, 4, 5, 5, 5, 4, 8, 5, 7, 6, 4, 6, 5, 7, 5, 7, 6, 6, 5, 8, 6, 5, 5, 2, 4, 6, 4, 5, 5, 3, 4, 5, 5, 5, 6, 6, 5, 7, 4, 5, 7, 6, 6, 3, 7, 6, 9, 3, 7, 3, 5, 3, 7, 6, 5, 5, 3, 6, 5, 6, 7, 8, 7, 2, 4, 6, 3, 5, 2, 4, 2, 6, 4, 4, 7, 6, 2, 3, 5, 5, 4, 7, 5, 5, 5, 6, 4, 5, 4, 4, 7, 6, 5, 4, 4, 3, 5, 4, 6, 5, 4, 2, 3, 6, 5, 5, 7, 9, 4, 6, 4, 2, 6, 4, 5, 5, 7, 6, 7, 4, 6, 4, 8, 6, 4, 8, 6, 4, 4, 5, 2, 4, 5, 4, 5, 4, 5, 7, 3, 5, 3, 6, 5, 5, 4, 3, 5, 4, 7, 6, 6, 7, 3, 5, 5, 8, 4, 4, 3, 2, 7, 6, 6, 4, 5, 3, 5, 8, 7, 4, 8, 4, 8, 7, 6, 6, 7, 4, 7, 5, 2, 4, 3, 8, 5, 5, 6, 4, 3, 6, 4, 5, 4, 3, 7, 8, 8, 7, 6, 4, 3, 5, 4, 3, 2, 6, 2, 6, 3, 3, 3, 6, 4, 5, 5, 7, 6, 4, 3, 3, 4, 4, 5, 6, 6, 4, 5, 4, 6, 3, 6, 6, 6, 4, 4, 5, 4, 4, 4, 5, 2, 6, 3, 5, 4, 5, 8, 6, 2, 5, 5, 5, 6, 4, 3, 5, 8, 4, 7, 5, 5, 7, 5, 6, 5, 7, 6, 6, 4, 6, 6, 4, 3, 6, 8, 5, 5, 7, 5, 8, 5, 6, 7, 6, 3, 6, 5, 3, 5, 4, 7, 2, 8, 4, 4, 2, 4, 5, 7, 3, 7, 7, 5, 4, 4, 5, 2, 2, 5, 3, 4, 4, 4, 3, 2, 3, 5, 8, 9, 5, 3, 6, 5, 9, 3, 6, 4, 4, 6, 4, 6, 5, 5, 5, 4, 6, 5, 4, 7, 7, 2, 4, 4, 6, 8, 8, 7, 4, 9, 4, 3, 8, 4, 6, 3, 6, 7, 4, 5, 4, 6, 4, 3, 5, 4, 7, 4, 5, 7, 6, 7, 7, 6, 6, 8, 9, 5, 3, 4, 3, 5, 3, 5, 5, 7, 8, 5, 4, 5, 7, 5, 5, 4, 5, 5, 4, 5, 4, 4, 5, 6, 4, 7, 7, 2, 4, 5, 3, 4, 6, 6, 5, 6, 4, 4, 6, 7, 5, 4, 2, 6, 1, 4, 5, 7, 3, 5, 2, 4, 5, 4, 4, 3, 5, 6, 6, 8, 1, 6, 5, 5, 8, 2, 6, 6, 5, 4, 6, 3, 5, 5, 6, 3, 4, 5, 6, 7, 5, 3, 8, 7, 5, 7, 5, 7, 7, 8, 7, 2, 4, 5, 8, 4, 3, 7, 5, 7, 3, 6, 5, 3, 6, 4, 2, 3, 3, 7, 6, 7, 6, 5, 4, 9, 4, 5, 5, 8, 4, 4, 6, 3, 5, 5, 4, 4, 5, 4, 5, 4, 8, 3, 3, 4, 5, 6, 5, 10, 4, 6, 6, 6, 8, 7, 6, 6, 4, 3, 3, 4, 5, 5, 6, 8, 3, 3, 5, 6, 7, 7, 8, 5, 5, 3, 6, 6, 7, 3, 5, 5, 4, 3, 7, 3, 5, 3, 5, 8, 5, 7, 3, 4, 5, 5, 6, 4, 6, 6, 5, 5, 5, 3, 6, 6, 6, 5, 3, 5, 5, 4, 2, 6, 3, 5, 6, 6, 8, 3, 7, 2, 5, 5, 5, 4, 4, 2, 5, 7, 4, 4, 3, 3, 4, 3, 4, 3, 3, 7, 3, 5, 6, 5, 3, 4, 5, 5, 4, 6, 6, 7, 2, 7, 5, 7, 6, 8, 6, 4, 5, 4, 4, 4, 5, 6, 4, 5, 3, 3, 2, 8, 1, 4, 5, 3, 7, 6, 8, 5, 4, 5, 7, 5, 4, 7, 4, 1, 4, 4, 7, 5, 5, 4, 7, 7, 9, 4, 8, 6, 6, 4, 4, 3, 7, 4, 5, 5, 6, 7, 3, 5, 7, 6, 3, 3, 4, 3, 5, 3, 5, 4, 5, 3, 8, 7, 5, 4, 4, 5, 2, 6, 5, 5, 6, 6, 8, 4, 7, 6, 4, 5, 4, 7, 3, 4, 4, 5, 6, 5, 5, 0, 5, 3, 4, 7, 4, 7, 6, 3, 5, 3, 6, 6, 6, 5, 7, 2, 4, 6, 5, 4, 3, 6, 5, 7, 6, 5, 4, 5, 7, 6, 1, 6, 7, 6, 4, 5, 3, 4, 7, 7, 4, 4, 5, 8, 3, 4, 7, 5, 7, 4, 5, 4, 4, 5, 5, 4, 7, 6, 6, 4, 5, 6, 6, 4, 6, 6, 3, 7, 5, 5, 5, 5, 5, 5, 7, 6, 5, 5, 6, 4, 4, 3, 7, 7, 3, 4, 4, 3, 7, 3, 8, 3, 7, 5, 4, 4, 6, 4, 6, 5, 5, 7, 5, 6, 6, 2, 6, 4, 7, 2, 4, 3, 5, 6, 4, 3, 4, 6, 3, 4, 3, 6, 5, 4, 6, 4, 6, 6, 4, 8, 3, 4, 4, 4, 5, 5, 7, 7, 4, 5, 3, 5, 4, 4, 5, 6, 3, 7, 6, 4, 7, 5, 10, 4, 5, 4, 4, 5, 7, 6, 6, 5, 7, 5, 7, 7, 4, 6, 2, 4, 4, 5, 6, 3, 5, 7, 4, 6], 'class_type': ['Mammal']}\n"
     ]
    }
   ],
   "source": [
    "items = []\n",
    "for i, (_, row) in enumerate(zoo.iterrows()):\n",
    "    item = {}\n",
    "    item['features'] = [f\"{f}={str(row[f])}\" for f in zoo.columns[1:] if f not in ['class_type']] \n",
    "    item['features'] += list(np.random.binomial(10, 0.5, 1000))\n",
    "    item['class_type'] = [row['class_type']]\n",
    "    items.append(item)\n",
    "\n",
    "print(items[0])"
   ]
  },
  {
   "cell_type": "markdown",
   "metadata": {},
   "source": [
    "## Initialize Sparse Tensor Classifier\n",
    "\n",
    "Let's instruct STC to predict `class_type` based on the animal's `features`."
   ]
  },
  {
   "cell_type": "code",
   "execution_count": 5,
   "metadata": {},
   "outputs": [],
   "source": [
    "STC = SparseTensorClassifier(targets=['class_type'], features=['features'])"
   ]
  },
  {
   "cell_type": "markdown",
   "metadata": {},
   "source": [
    "## Fit the training data"
   ]
  },
  {
   "cell_type": "code",
   "execution_count": 6,
   "metadata": {},
   "outputs": [
    {
     "name": "stdout",
     "output_type": "stream",
     "text": [
      "[============================================================] 100.0% Fitting (00:00:00.04/00:00:00.04)\r"
     ]
    }
   ],
   "source": [
    "STC.fit(items[0:70])"
   ]
  },
  {
   "cell_type": "markdown",
   "metadata": {},
   "source": [
    "## Predict the test data\n",
    "\n",
    "Sparse Tensor Classifier can be tuned with the following hyperparameters:\n",
    "- `balance` $b\\geq0$: STC deals with imbalanced data by artificially balancing the sample when setting $b=1$. For $0<b<1$ the sample is semi-balanced, increasing the weight of the less frequent classes but not enough to have a balanced sample. For $b>1$ the sample is super-balanced, where the weight of the less frequent classes is greater than the weight of the most frequent classes.\n",
    "- `entropy` $h\\geq0$: The entropic weights are set with $h=1$, dropped with $h=0$, and their intensity can be tuned more in general with $h\\geq 0$. Higher values of the entropy $h$ lead to predictions based on less but more relevant features, thus more robust to noise.\n",
    "- `power` $p>0$: The power $p$ controls the probability amplitude. Smaller values of $p$ give similar weight to all the features regardless of their distribution. \n",
    "\n",
    "The hyperparameters can be set on-the-fly at prediction time, as the fitting is independent from these hyperparameters. Below some special cases are illustrated, but a standard cross-validation strategy to learn the optimal hyperparameters is also possible.\n",
    "\n",
    "**The particular choice**\n",
    "```py \n",
    "{\"entropy\": 0, \"balance\": 0, \"power\": 1}\n",
    "```\n",
    "corresponds to using classical probability and classifying with Bayes' rule."
   ]
  },
  {
   "cell_type": "code",
   "execution_count": 7,
   "metadata": {},
   "outputs": [
    {
     "name": "stdout",
     "output_type": "stream",
     "text": [
      "[============================================================] 100.0% Predicting (00:00:00.03/00:00:00.03)\r"
     ]
    },
    {
     "data": {
      "text/plain": [
       "0.25806451612903225"
      ]
     },
     "execution_count": 7,
     "metadata": {},
     "output_type": "execute_result"
    }
   ],
   "source": [
    "STC.set({\"entropy\": 0, \"balance\": 0, \"power\": 1})\n",
    "labels, probability, explain = STC.predict(items[70:])\n",
    "accuracy_score(zoo['class_type'][70:], labels)"
   ]
  },
  {
   "cell_type": "markdown",
   "metadata": {},
   "source": [
    "**The particular choice**\n",
    "```py \n",
    "{\"entropy\": 1, \"balance\": 0, \"power\": 1}\n",
    "```\n",
    "corresponds to using a robust version of classical probability and classifying with Bayes' rule."
   ]
  },
  {
   "cell_type": "code",
   "execution_count": 8,
   "metadata": {},
   "outputs": [
    {
     "name": "stdout",
     "output_type": "stream",
     "text": [
      "[============================================================] 100.0% Predicting (00:00:00.03/00:00:00.03)\r"
     ]
    },
    {
     "data": {
      "text/plain": [
       "0.9032258064516129"
      ]
     },
     "execution_count": 8,
     "metadata": {},
     "output_type": "execute_result"
    }
   ],
   "source": [
    "STC.set({\"entropy\": 1, \"balance\": 0, \"power\": 1})\n",
    "labels, probability, explain = STC.predict(items[70:])\n",
    "accuracy_score(zoo['class_type'][70:], labels)"
   ]
  },
  {
   "cell_type": "markdown",
   "metadata": {},
   "source": [
    "**The particular choice**\n",
    "```py \n",
    "{\"entropy\": 0, \"balance\": 1, \"power\": 0.5}\n",
    "```\n",
    "corresponds to using quantum probability and classifying with Born's key postulate of quantum mechanics."
   ]
  },
  {
   "cell_type": "code",
   "execution_count": 9,
   "metadata": {},
   "outputs": [
    {
     "name": "stdout",
     "output_type": "stream",
     "text": [
      "[============================================================] 100.0% Predicting (00:00:00.04/00:00:00.04)\r"
     ]
    },
    {
     "data": {
      "text/plain": [
       "0.9354838709677419"
      ]
     },
     "execution_count": 9,
     "metadata": {},
     "output_type": "execute_result"
    }
   ],
   "source": [
    "STC.set({\"entropy\": 0, \"balance\": 1, \"power\": 0.5})\n",
    "labels, probability, explain = STC.predict(items[70:])\n",
    "accuracy_score(zoo['class_type'][70:], labels)"
   ]
  },
  {
   "cell_type": "markdown",
   "metadata": {},
   "source": [
    "**The particular choice**\n",
    "```py \n",
    "{\"entropy\": 1, \"balance\": 1, \"power\": 0.5}\n",
    "```\n",
    "corresponds to using a robust version of quantum probability and classifying with Born's key postulate of quantum mechanics (**default configuration**)."
   ]
  },
  {
   "cell_type": "code",
   "execution_count": 10,
   "metadata": {},
   "outputs": [
    {
     "name": "stdout",
     "output_type": "stream",
     "text": [
      "[============================================================] 100.0% Predicting (00:00:00.05/00:00:00.05)\r"
     ]
    },
    {
     "data": {
      "text/plain": [
       "0.967741935483871"
      ]
     },
     "execution_count": 10,
     "metadata": {},
     "output_type": "execute_result"
    }
   ],
   "source": [
    "STC.set({\"entropy\": 1, \"balance\": 1, \"power\": 0.5})\n",
    "labels, probability, explain = STC.predict(items[70:])\n",
    "accuracy_score(zoo['class_type'][70:], labels)"
   ]
  },
  {
   "cell_type": "markdown",
   "metadata": {},
   "source": [
    "# Congratulations! \n",
    "\n",
    "Congratulations on completing this tutorial notebook! If you enjoyed working through the tutorial, and want to continue working with Sparse Tensor Classifier, we encourage you to finish the rest of the tutorials in [this series](https://github.com/SparseTensorClassifier/tutorial). Don't forget to [star the repository](https://github.com/SparseTensorClassifier/stc)! \n",
    "\n",
    "![GitHub Repo stars](https://img.shields.io/github/stars/SparseTensorClassifier/stc?style=social)\n",
    "\n",
    "<div>\n",
    "    Thanks by <a href=\"https://sparsetensorclassifier.org\">https://sparsetensorclassifier.org</a>  \n",
    "    <span style=\"float:right\">\n",
    "        Questions? Open an <a href=\"https://github.com/SparseTensorClassifier/tutorial/issues\">issue</a>\n",
    "    </span> \n",
    "</div>"
   ]
  }
 ],
 "metadata": {
  "hide_code_all_hidden": false,
  "kernelspec": {
   "display_name": "Python 3",
   "language": "python",
   "name": "python3"
  },
  "language_info": {
   "codemirror_mode": {
    "name": "ipython",
    "version": 3
   },
   "file_extension": ".py",
   "mimetype": "text/x-python",
   "name": "python",
   "nbconvert_exporter": "python",
   "pygments_lexer": "ipython3",
   "version": "3.7.9"
  },
  "toc": {
   "base_numbering": 1,
   "nav_menu": {},
   "number_sections": true,
   "sideBar": true,
   "skip_h1_title": true,
   "title_cell": "Table of Contents",
   "title_sidebar": "Contents",
   "toc_cell": false,
   "toc_position": {},
   "toc_section_display": true,
   "toc_window_display": false
  }
 },
 "nbformat": 4,
 "nbformat_minor": 2
}
